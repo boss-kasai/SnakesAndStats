{
 "cells": [
  {
   "cell_type": "code",
   "execution_count": 1,
   "metadata": {},
   "outputs": [],
   "source": [
    "import math"
   ]
  },
  {
   "cell_type": "code",
   "execution_count": 2,
   "metadata": {},
   "outputs": [],
   "source": [
    "def calculate_entropy(charset_size: int, password_length: int) -> float:\n",
    "    \"\"\"\n",
    "    文字の種類と文字数からパスワードのエントロピーを計算する関数。\n",
    "\n",
    "    :param charset_size: 使用する文字の種類の総数（例: 26、52、62など）\n",
    "    :param password_length: パスワードの長さ\n",
    "    :return: エントロピーの値（bit単位）\n",
    "    \"\"\"\n",
    "    if charset_size <= 0 or password_length <= 0:\n",
    "        raise ValueError(\"文字の種類と文字数は正の値である必要があります。\")\n",
    "\n",
    "    # エントロピーを計算\n",
    "    entropy = math.log2(charset_size ** password_length)\n",
    "    return entropy"
   ]
  },
  {
   "cell_type": "code",
   "execution_count": 4,
   "metadata": {},
   "outputs": [
    {
     "name": "stdout",
     "output_type": "stream",
     "text": [
      "文字セット: 26, 長さ: 12, エントロピー: 56.41 bits\n"
     ]
    }
   ],
   "source": [
    "# 小文字のみの場合\n",
    "charset_size = 26  # 例: 小文字のみ\n",
    "password_length = 12  # パスワードの長さ\n",
    "entropy = calculate_entropy(charset_size, password_length)\n",
    "print(f\"文字セット: {charset_size}, 長さ: {password_length}, エントロピー: {entropy:.2f} bits\")"
   ]
  },
  {
   "cell_type": "code",
   "execution_count": 5,
   "metadata": {},
   "outputs": [
    {
     "name": "stdout",
     "output_type": "stream",
     "text": [
      "文字セット: 10, 長さ: 12, エントロピー: 39.86 bits\n"
     ]
    }
   ],
   "source": [
    "# 数字のみの場合\n",
    "charset_size = 10  # 例: 数字のみ\n",
    "password_length = 12  # パスワードの長さ\n",
    "entropy = calculate_entropy(charset_size, password_length)\n",
    "print(f\"文字セット: {charset_size}, 長さ: {password_length}, エントロピー: {entropy:.2f} bits\")"
   ]
  },
  {
   "cell_type": "code",
   "execution_count": 6,
   "metadata": {},
   "outputs": [
    {
     "name": "stdout",
     "output_type": "stream",
     "text": [
      "文字セット: 36, 長さ: 12, エントロピー: 62.04 bits\n"
     ]
    }
   ],
   "source": [
    "# 小文字と数字の場合\n",
    "charset_size = 36  # 例: 小文字と数字\n",
    "password_length = 12  # パスワードの長さ\n",
    "entropy = calculate_entropy(charset_size, password_length)\n",
    "print(f\"文字セット: {charset_size}, 長さ: {password_length}, エントロピー: {entropy:.2f} bits\")"
   ]
  },
  {
   "cell_type": "code",
   "execution_count": 7,
   "metadata": {},
   "outputs": [
    {
     "name": "stdout",
     "output_type": "stream",
     "text": [
      "文字セット: 62, 長さ: 12, エントロピー: 71.45 bits\n"
     ]
    }
   ],
   "source": [
    "# 大文字、小文字、数字の場合\n",
    "charset_size = 62  # 例: 大文字、小文字、数字\n",
    "password_length = 12  # パスワードの長さ\n",
    "entropy = calculate_entropy(charset_size, password_length)\n",
    "print(f\"文字セット: {charset_size}, 長さ: {password_length}, エントロピー: {entropy:.2f} bits\")"
   ]
  },
  {
   "cell_type": "code",
   "execution_count": 8,
   "metadata": {},
   "outputs": [
    {
     "name": "stdout",
     "output_type": "stream",
     "text": [
      "文字セット: 94, 長さ: 12, エントロピー: 78.66 bits\n"
     ]
    }
   ],
   "source": [
    "# 大文字、小文字、数字、記号の場合\n",
    "charset_size = 94  # 例: 大文字、小文字、数字、記号\n",
    "password_length = 12  # パスワードの長さ\n",
    "entropy = calculate_entropy(charset_size, password_length)\n",
    "print(f\"文字セット: {charset_size}, 長さ: {password_length}, エントロピー: {entropy:.2f} bits\")"
   ]
  },
  {
   "cell_type": "code",
   "execution_count": 12,
   "metadata": {},
   "outputs": [
    {
     "name": "stderr",
     "output_type": "stream",
     "text": [
      "findfont: Font family 'Noto Sans CJK JP' not found.\n",
      "findfont: Font family 'Noto Sans CJK JP' not found.\n",
      "findfont: Font family 'Noto Sans CJK JP' not found.\n",
      "findfont: Font family 'Noto Sans CJK JP' not found.\n",
      "findfont: Font family 'Noto Sans CJK JP' not found.\n",
      "findfont: Font family 'Noto Sans CJK JP' not found.\n",
      "findfont: Font family 'Noto Sans CJK JP' not found.\n",
      "findfont: Font family 'Noto Sans CJK JP' not found.\n",
      "/var/folders/lb/bgmvtswx3_9grzmg2lxvrd1h0000gn/T/ipykernel_97602/1625422785.py:44: UserWarning: Glyph 25991 (\\N{CJK UNIFIED IDEOGRAPH-6587}) missing from font(s) DejaVu Sans.\n",
      "  plt.tight_layout()\n",
      "/var/folders/lb/bgmvtswx3_9grzmg2lxvrd1h0000gn/T/ipykernel_97602/1625422785.py:44: UserWarning: Glyph 23383 (\\N{CJK UNIFIED IDEOGRAPH-5B57}) missing from font(s) DejaVu Sans.\n",
      "  plt.tight_layout()\n",
      "/var/folders/lb/bgmvtswx3_9grzmg2lxvrd1h0000gn/T/ipykernel_97602/1625422785.py:44: UserWarning: Glyph 25968 (\\N{CJK UNIFIED IDEOGRAPH-6570}) missing from font(s) DejaVu Sans.\n",
      "  plt.tight_layout()\n",
      "findfont: Font family 'Noto Sans CJK JP' not found.\n",
      "findfont: Font family 'Noto Sans CJK JP' not found.\n",
      "findfont: Font family 'Noto Sans CJK JP' not found.\n",
      "findfont: Font family 'Noto Sans CJK JP' not found.\n",
      "findfont: Font family 'Noto Sans CJK JP' not found.\n",
      "findfont: Font family 'Noto Sans CJK JP' not found.\n",
      "findfont: Font family 'Noto Sans CJK JP' not found.\n",
      "findfont: Font family 'Noto Sans CJK JP' not found.\n",
      "/var/folders/lb/bgmvtswx3_9grzmg2lxvrd1h0000gn/T/ipykernel_97602/1625422785.py:44: UserWarning: Glyph 12456 (\\N{KATAKANA LETTER E}) missing from font(s) DejaVu Sans.\n",
      "  plt.tight_layout()\n",
      "/var/folders/lb/bgmvtswx3_9grzmg2lxvrd1h0000gn/T/ipykernel_97602/1625422785.py:44: UserWarning: Glyph 12531 (\\N{KATAKANA LETTER N}) missing from font(s) DejaVu Sans.\n",
      "  plt.tight_layout()\n",
      "/var/folders/lb/bgmvtswx3_9grzmg2lxvrd1h0000gn/T/ipykernel_97602/1625422785.py:44: UserWarning: Glyph 12488 (\\N{KATAKANA LETTER TO}) missing from font(s) DejaVu Sans.\n",
      "  plt.tight_layout()\n",
      "/var/folders/lb/bgmvtswx3_9grzmg2lxvrd1h0000gn/T/ipykernel_97602/1625422785.py:44: UserWarning: Glyph 12525 (\\N{KATAKANA LETTER RO}) missing from font(s) DejaVu Sans.\n",
      "  plt.tight_layout()\n",
      "/var/folders/lb/bgmvtswx3_9grzmg2lxvrd1h0000gn/T/ipykernel_97602/1625422785.py:44: UserWarning: Glyph 12500 (\\N{KATAKANA LETTER PI}) missing from font(s) DejaVu Sans.\n",
      "  plt.tight_layout()\n",
      "/var/folders/lb/bgmvtswx3_9grzmg2lxvrd1h0000gn/T/ipykernel_97602/1625422785.py:44: UserWarning: Glyph 12540 (\\N{KATAKANA-HIRAGANA PROLONGED SOUND MARK}) missing from font(s) DejaVu Sans.\n",
      "  plt.tight_layout()\n",
      "findfont: Font family 'Noto Sans CJK JP' not found.\n",
      "findfont: Font family 'Noto Sans CJK JP' not found.\n",
      "/var/folders/lb/bgmvtswx3_9grzmg2lxvrd1h0000gn/T/ipykernel_97602/1625422785.py:44: UserWarning: Glyph 12497 (\\N{KATAKANA LETTER PA}) missing from font(s) DejaVu Sans.\n",
      "  plt.tight_layout()\n",
      "/var/folders/lb/bgmvtswx3_9grzmg2lxvrd1h0000gn/T/ipykernel_97602/1625422785.py:44: UserWarning: Glyph 12473 (\\N{KATAKANA LETTER SU}) missing from font(s) DejaVu Sans.\n",
      "  plt.tight_layout()\n",
      "/var/folders/lb/bgmvtswx3_9grzmg2lxvrd1h0000gn/T/ipykernel_97602/1625422785.py:44: UserWarning: Glyph 12527 (\\N{KATAKANA LETTER WA}) missing from font(s) DejaVu Sans.\n",
      "  plt.tight_layout()\n",
      "/var/folders/lb/bgmvtswx3_9grzmg2lxvrd1h0000gn/T/ipykernel_97602/1625422785.py:44: UserWarning: Glyph 12489 (\\N{KATAKANA LETTER DO}) missing from font(s) DejaVu Sans.\n",
      "  plt.tight_layout()\n",
      "/var/folders/lb/bgmvtswx3_9grzmg2lxvrd1h0000gn/T/ipykernel_97602/1625422785.py:44: UserWarning: Glyph 12398 (\\N{HIRAGANA LETTER NO}) missing from font(s) DejaVu Sans.\n",
      "  plt.tight_layout()\n",
      "/var/folders/lb/bgmvtswx3_9grzmg2lxvrd1h0000gn/T/ipykernel_97602/1625422785.py:44: UserWarning: Glyph 22679 (\\N{CJK UNIFIED IDEOGRAPH-5897}) missing from font(s) DejaVu Sans.\n",
      "  plt.tight_layout()\n",
      "/var/folders/lb/bgmvtswx3_9grzmg2lxvrd1h0000gn/T/ipykernel_97602/1625422785.py:44: UserWarning: Glyph 21152 (\\N{CJK UNIFIED IDEOGRAPH-52A0}) missing from font(s) DejaVu Sans.\n",
      "  plt.tight_layout()\n",
      "findfont: Font family 'Noto Sans CJK JP' not found.\n",
      "findfont: Font family 'Noto Sans CJK JP' not found.\n",
      "/var/folders/lb/bgmvtswx3_9grzmg2lxvrd1h0000gn/T/ipykernel_97602/1625422785.py:44: UserWarning: Glyph 12475 (\\N{KATAKANA LETTER SE}) missing from font(s) DejaVu Sans.\n",
      "  plt.tight_layout()\n",
      "/var/folders/lb/bgmvtswx3_9grzmg2lxvrd1h0000gn/T/ipykernel_97602/1625422785.py:44: UserWarning: Glyph 12483 (\\N{KATAKANA LETTER SMALL TU}) missing from font(s) DejaVu Sans.\n",
      "  plt.tight_layout()\n",
      "findfont: Font family 'Noto Sans CJK JP' not found.\n",
      "findfont: Font family 'Noto Sans CJK JP' not found.\n",
      "findfont: Font family 'Noto Sans CJK JP' not found.\n",
      "findfont: Font family 'Noto Sans CJK JP' not found.\n",
      "findfont: Font family 'Noto Sans CJK JP' not found.\n",
      "findfont: Font family 'Noto Sans CJK JP' not found.\n",
      "findfont: Font family 'Noto Sans CJK JP' not found.\n",
      "findfont: Font family 'Noto Sans CJK JP' not found.\n",
      "findfont: Font family 'Noto Sans CJK JP' not found.\n",
      "findfont: Font family 'Noto Sans CJK JP' not found.\n",
      "findfont: Font family 'Noto Sans CJK JP' not found.\n",
      "findfont: Font family 'Noto Sans CJK JP' not found.\n",
      "findfont: Font family 'Noto Sans CJK JP' not found.\n",
      "findfont: Font family 'Noto Sans CJK JP' not found.\n",
      "findfont: Font family 'Noto Sans CJK JP' not found.\n",
      "findfont: Font family 'Noto Sans CJK JP' not found.\n",
      "findfont: Font family 'Noto Sans CJK JP' not found.\n",
      "findfont: Font family 'Noto Sans CJK JP' not found.\n",
      "findfont: Font family 'Noto Sans CJK JP' not found.\n",
      "findfont: Font family 'Noto Sans CJK JP' not found.\n",
      "findfont: Font family 'Noto Sans CJK JP' not found.\n",
      "findfont: Font family 'Noto Sans CJK JP' not found.\n",
      "findfont: Font family 'Noto Sans CJK JP' not found.\n",
      "findfont: Font family 'Noto Sans CJK JP' not found.\n",
      "findfont: Font family 'Noto Sans CJK JP' not found.\n",
      "findfont: Font family 'Noto Sans CJK JP' not found.\n",
      "findfont: Font family 'Noto Sans CJK JP' not found.\n",
      "findfont: Font family 'Noto Sans CJK JP' not found.\n",
      "findfont: Font family 'Noto Sans CJK JP' not found.\n",
      "findfont: Font family 'Noto Sans CJK JP' not found.\n",
      "findfont: Font family 'Noto Sans CJK JP' not found.\n",
      "findfont: Font family 'Noto Sans CJK JP' not found.\n",
      "findfont: Font family 'Noto Sans CJK JP' not found.\n",
      "findfont: Font family 'Noto Sans CJK JP' not found.\n",
      "findfont: Font family 'Noto Sans CJK JP' not found.\n",
      "findfont: Font family 'Noto Sans CJK JP' not found.\n",
      "findfont: Font family 'Noto Sans CJK JP' not found.\n",
      "findfont: Font family 'Noto Sans CJK JP' not found.\n",
      "findfont: Font family 'Noto Sans CJK JP' not found.\n",
      "findfont: Font family 'Noto Sans CJK JP' not found.\n",
      "findfont: Font family 'Noto Sans CJK JP' not found.\n",
      "findfont: Font family 'Noto Sans CJK JP' not found.\n",
      "findfont: Font family 'Noto Sans CJK JP' not found.\n",
      "findfont: Font family 'Noto Sans CJK JP' not found.\n",
      "findfont: Font family 'Noto Sans CJK JP' not found.\n",
      "findfont: Font family 'Noto Sans CJK JP' not found.\n",
      "findfont: Font family 'Noto Sans CJK JP' not found.\n",
      "findfont: Font family 'Noto Sans CJK JP' not found.\n",
      "findfont: Font family 'Noto Sans CJK JP' not found.\n",
      "findfont: Font family 'Noto Sans CJK JP' not found.\n",
      "findfont: Font family 'Noto Sans CJK JP' not found.\n",
      "findfont: Font family 'Noto Sans CJK JP' not found.\n",
      "findfont: Font family 'Noto Sans CJK JP' not found.\n",
      "findfont: Font family 'Noto Sans CJK JP' not found.\n",
      "findfont: Font family 'Noto Sans CJK JP' not found.\n",
      "findfont: Font family 'Noto Sans CJK JP' not found.\n",
      "findfont: Font family 'Noto Sans CJK JP' not found.\n",
      "findfont: Font family 'Noto Sans CJK JP' not found.\n",
      "findfont: Font family 'Noto Sans CJK JP' not found.\n",
      "findfont: Font family 'Noto Sans CJK JP' not found.\n",
      "findfont: Font family 'Noto Sans CJK JP' not found.\n",
      "findfont: Font family 'Noto Sans CJK JP' not found.\n",
      "findfont: Font family 'Noto Sans CJK JP' not found.\n",
      "findfont: Font family 'Noto Sans CJK JP' not found.\n",
      "findfont: Font family 'Noto Sans CJK JP' not found.\n",
      "findfont: Font family 'Noto Sans CJK JP' not found.\n",
      "findfont: Font family 'Noto Sans CJK JP' not found.\n",
      "findfont: Font family 'Noto Sans CJK JP' not found.\n",
      "findfont: Font family 'Noto Sans CJK JP' not found.\n",
      "findfont: Font family 'Noto Sans CJK JP' not found.\n",
      "findfont: Font family 'Noto Sans CJK JP' not found.\n",
      "findfont: Font family 'Noto Sans CJK JP' not found.\n",
      "findfont: Font family 'Noto Sans CJK JP' not found.\n",
      "findfont: Font family 'Noto Sans CJK JP' not found.\n",
      "findfont: Font family 'Noto Sans CJK JP' not found.\n",
      "findfont: Font family 'Noto Sans CJK JP' not found.\n",
      "findfont: Font family 'Noto Sans CJK JP' not found.\n",
      "findfont: Font family 'Noto Sans CJK JP' not found.\n",
      "findfont: Font family 'Noto Sans CJK JP' not found.\n",
      "findfont: Font family 'Noto Sans CJK JP' not found.\n",
      "findfont: Font family 'Noto Sans CJK JP' not found.\n",
      "findfont: Font family 'Noto Sans CJK JP' not found.\n",
      "findfont: Font family 'Noto Sans CJK JP' not found.\n",
      "findfont: Font family 'Noto Sans CJK JP' not found.\n",
      "findfont: Font family 'Noto Sans CJK JP' not found.\n",
      "findfont: Font family 'Noto Sans CJK JP' not found.\n",
      "findfont: Font family 'Noto Sans CJK JP' not found.\n",
      "findfont: Font family 'Noto Sans CJK JP' not found.\n",
      "findfont: Font family 'Noto Sans CJK JP' not found.\n",
      "findfont: Font family 'Noto Sans CJK JP' not found.\n",
      "findfont: Font family 'Noto Sans CJK JP' not found.\n",
      "findfont: Font family 'Noto Sans CJK JP' not found.\n"
     ]
    },
    {
     "data": {
      "image/png": "[encoded data removed]",
      "text/plain": [
       "<Figure size 1000x600 with 1 Axes>"
      ]
     },
     "metadata": {},
     "output_type": "display_data"
    }
   ],
   "source": [
    "## エントロピーの図の作成\n",
    "\n",
    "import math\n",
    "import matplotlib.pyplot as plt\n",
    "from matplotlib import rcParams\n",
    "from matplotlib.ticker import MaxNLocator\n",
    "\n",
    "# 日本語フォントの設定（例: Noto Sans CJK JP）\n",
    "# rcParams['font.family'] = 'Noto Sans CJK JP'\n",
    "\n",
    "# パスワードのエントロピーを計算する関数\n",
    "def calculate_entropy_fixed(charset_size: int, password_length: int) -> float:\n",
    "    if charset_size <= 0 or password_length <= 0:\n",
    "        return 0\n",
    "    return password_length * math.log2(charset_size)\n",
    "\n",
    "# パラメータ設定\n",
    "charset_sizes = [26, 52, 62, 94]  # 小文字, 小文字+大文字, 小文字+大文字+数字, 全文字セット\n",
    "password_lengths = range(1, 21)  # パスワードの長さ: 1から20まで\n",
    "\n",
    "# グラフデータの生成\n",
    "entropy_values_fixed = {}\n",
    "for charset_size in charset_sizes:\n",
    "    entropy_values_fixed[charset_size] = [calculate_entropy_fixed(charset_size, length) for length in password_lengths]\n",
    "\n",
    "# グラフの作成\n",
    "plt.figure(figsize=(10, 6))\n",
    "\n",
    "for charset_size, entropies in entropy_values_fixed.items():\n",
    "    label = f\"文字セット: {charset_size}\"\n",
    "    plt.plot(password_lengths, entropies, label=label)\n",
    "\n",
    "# グラフの設定\n",
    "plt.title(\"パスワードのエントロピーの増加\")\n",
    "plt.xlabel(\"文字数\")\n",
    "plt.ylabel(\"エントロピー (bits)\")\n",
    "plt.grid(True)\n",
    "plt.legend()\n",
    "\n",
    "# 横軸を整数のみに設定\n",
    "ax = plt.gca()\n",
    "ax.xaxis.set_major_locator(MaxNLocator(integer=True))\n",
    "\n",
    "plt.tight_layout()\n",
    "plt.show()\n"
   ]
  },
  {
   "cell_type": "code",
   "execution_count": 13,
   "metadata": {},
   "outputs": [],
   "source": [
    "## パスワードが可変長の場合のエントロピー計算\n",
    "\n",
    "import math\n",
    "\n",
    "def calculate_entropy_range(charset_size: int, min_length: int, max_length: int) -> float:\n",
    "    \"\"\"\n",
    "    パスワードの文字数が範囲で指定される場合のエントロピーを計算する関数。\n",
    "\n",
    "    :param charset_size: 使用する文字セットの種類数\n",
    "    :param min_length: 最小文字数\n",
    "    :param max_length: 最大文字数\n",
    "    :return: エントロピー (bit単位)\n",
    "    \"\"\"\n",
    "    if charset_size <= 0 or min_length <= 0 or max_length < min_length:\n",
    "        raise ValueError(\"入力値が不正です。\")\n",
    "\n",
    "    # 各文字数に対する組み合わせ数を合計\n",
    "    total_combinations = sum(charset_size ** l for l in range(min_length, max_length + 1))\n",
    "\n",
    "    # エントロピーを計算\n",
    "    entropy = math.log2(total_combinations)\n",
    "    return entropy"
   ]
  },
  {
   "cell_type": "code",
   "execution_count": 15,
   "metadata": {},
   "outputs": [
    {
     "name": "stdout",
     "output_type": "stream",
     "text": [
      "文字セット: 26, 文字数範囲: 6-12, エントロピー: 56.46 bits\n"
     ]
    }
   ],
   "source": [
    "# サンプル実行\n",
    "charset_size = 26  # 小文字のみ\n",
    "min_length = 6\n",
    "max_length = 12\n",
    "entropy = calculate_entropy_range(charset_size, min_length, max_length)\n",
    "print(f\"文字セット: {charset_size}, 文字数範囲: {min_length}-{max_length}, エントロピー: {entropy:.2f} bits\")"
   ]
  },
  {
   "cell_type": "code",
   "execution_count": 16,
   "metadata": {},
   "outputs": [],
   "source": [
    "import math\n",
    "import math\n",
    "\n",
    "def calculate_password_length(charset_size: int, target_entropy: float) -> int:\n",
    "    \"\"\"\n",
    "    指定された文字セットの種類とエントロピーを基に、\n",
    "    必要なパスワードの長さ（整数）を計算する関数。\n",
    "\n",
    "    :param charset_size: 使用する文字セットの種類数（例: 26, 52, 62, 94）\n",
    "    :param target_entropy: 必要なエントロピー（ビット単位）\n",
    "    :return: 必要なパスワードの長さ（整数）\n",
    "    \"\"\"\n",
    "    if charset_size <= 0:\n",
    "        raise ValueError(\"文字セットの種類は正の値である必要があります。\")\n",
    "    if target_entropy <= 0:\n",
    "        raise ValueError(\"エントロピーは正の値である必要があります。\")\n",
    "    \n",
    "    # パスワードの長さを計算\n",
    "    password_length = math.ceil(target_entropy / math.log2(charset_size))\n",
    "    return password_length"
   ]
  },
  {
   "cell_type": "code",
   "execution_count": 18,
   "metadata": {},
   "outputs": [
    {
     "name": "stdout",
     "output_type": "stream",
     "text": [
      "文字セット: 62, 必要エントロピー: 60 bits, 必要なパスワード長: 11 文字\n"
     ]
    }
   ],
   "source": [
    "charset_size = 62  # 小文字 + 大文字 + 数字\n",
    "target_entropy = 60  # 60ビットのエントロピー\n",
    "password_length = calculate_password_length(charset_size, target_entropy)\n",
    "print(f\"文字セット: {charset_size}, 必要エントロピー: {target_entropy} bits, 必要なパスワード長: {password_length} 文字\")"
   ]
  },
  {
   "cell_type": "code",
   "execution_count": 19,
   "metadata": {},
   "outputs": [
    {
     "name": "stdout",
     "output_type": "stream",
     "text": [
      "ひらがなの文字数: 83\n",
      "ぁあぃいぅうぇえぉおかがきぎくぐけげこごさざしじすずせぜそぞただちぢっつづてでとどなにぬねのはばぱひびぴふぶぷへべぺほぼぽまみむめもゃやゅゆょよらりるれろゎわゐゑをん\n"
     ]
    }
   ],
   "source": [
    "# 日本語の文字数を出力\n",
    "hiragana = \"\".join(\n",
    "    chr(i) for i in range(0x3040, 0x30A0) if \"ぁ\" <= chr(i) <= \"ん\"\n",
    ")\n",
    "\n",
    "print(f\"ひらがなの文字数: {len(hiragana)}\")\n",
    "print(hiragana)"
   ]
  },
  {
   "cell_type": "code",
   "execution_count": 20,
   "metadata": {},
   "outputs": [
    {
     "name": "stdout",
     "output_type": "stream",
     "text": [
      "カタカナの文字数: 84\n",
      "ァアィイゥウェエォオカガキギクグケゲコゴサザシジスズセゼソゾタダチヂッツヅテデトドナニヌネノハバパヒビピフブプヘベペホボポマミムメモャヤュユョヨラリルレロヮワヰヱヲンー\n"
     ]
    }
   ],
   "source": [
    "# カタカナの文字数を出力\n",
    "katakana = \"\".join(\n",
    "    chr(i)\n",
    "    for i in range(0x30A0, 0x30FF + 1)\n",
    "    if \"ァ\" <= chr(i) <= \"ン\" or \"ー\" == chr(i)\n",
    ")\n",
    "\n",
    "print(f\"カタカナの文字数: {len(katakana)}\")\n",
    "print(katakana)"
   ]
  }
 ],
 "metadata": {
  "kernelspec": {
   "display_name": "venv",
   "language": "python",
   "name": "python3"
  },
  "language_info": {
   "codemirror_mode": {
    "name": "ipython",
    "version": 3
   },
   "file_extension": ".py",
   "mimetype": "text/x-python",
   "name": "python",
   "nbconvert_exporter": "python",
   "pygments_lexer": "ipython3",
   "version": "3.13.1"
  }
 },
 "nbformat": 4,
 "nbformat_minor": 2
}
